{
 "cells": [
  {
   "cell_type": "code",
   "execution_count": 1,
   "metadata": {
    "collapsed": false
   },
   "outputs": [
    {
     "name": "stdout",
     "output_type": "stream",
     "text": [
      "Populating the interactive namespace from numpy and matplotlib\n"
     ]
    }
   ],
   "source": [
    "%pylab inline\n",
    "%load_ext music21.ipython21"
   ]
  },
  {
   "cell_type": "code",
   "execution_count": 2,
   "metadata": {
    "collapsed": true
   },
   "outputs": [],
   "source": [
    "from music21 import *\n",
    "import seaborn as sns\n",
    "from matplotlib import gridspec\n",
    "\n",
    "import sys\n",
    "sys.path.append('/home/fl350/bachbot/scripts')\n",
    "import datasets"
   ]
  },
  {
   "cell_type": "code",
   "execution_count": 10,
   "metadata": {
    "collapsed": false
   },
   "outputs": [],
   "source": [
    "catalog = stream.Opus()\n",
    "catalog_transpose = stream.Opus() # transposed to Cmaj/Amin\n",
    "catalog_transpose_quantize = stream.Opus() # transposed and quantized\n",
    "for workName in corpus.getBachChorales()[:10]:\n",
    "    work = converter.parse(workName)\n",
    "    firstTS = work.flat.getTimeSignatures()[0]\n",
    "    if firstTS.ratioString == '4/4': #Filter for every Bach chorale that is in 4/4\n",
    "        catalog.append(work)\n",
    "        transposed = datasets.standardize_key(work)\n",
    "        catalog_transpose.append(transposed)\n",
    "        catalog_transpose_quantize.append(transposed.quantize([2]))"
   ]
  },
  {
   "cell_type": "code",
   "execution_count": 9,
   "metadata": {
    "collapsed": false
   },
   "outputs": [
    {
     "ename": "StreamException",
     "evalue": "attempting to access index 2 while elements is of size 2",
     "output_type": "error",
     "traceback": [
      "\u001b[0;31m---------------------------------------------------------------------------\u001b[0m",
      "\u001b[0;31mStreamException\u001b[0m                           Traceback (most recent call last)",
      "\u001b[0;32m<ipython-input-9-8883dfb7351a>\u001b[0m in \u001b[0;36m<module>\u001b[0;34m()\u001b[0m\n\u001b[0;32m----> 1\u001b[0;31m \u001b[0ms\u001b[0m \u001b[0;34m=\u001b[0m \u001b[0mcatalog\u001b[0m\u001b[0;34m[\u001b[0m\u001b[0;36m2\u001b[0m\u001b[0;34m]\u001b[0m\u001b[0;34m\u001b[0m\u001b[0m\n\u001b[0m\u001b[1;32m      2\u001b[0m \u001b[0ms_transpose\u001b[0m \u001b[0;34m=\u001b[0m \u001b[0mcatalog_transpose\u001b[0m\u001b[0;34m[\u001b[0m\u001b[0;36m0\u001b[0m\u001b[0;34m]\u001b[0m\u001b[0;34m\u001b[0m\u001b[0m\n\u001b[1;32m      3\u001b[0m \u001b[0ms_transpose_quantize\u001b[0m \u001b[0;34m=\u001b[0m \u001b[0mcatalog_transpose_quantize\u001b[0m\u001b[0;34m[\u001b[0m\u001b[0;36m0\u001b[0m\u001b[0;34m]\u001b[0m\u001b[0;34m\u001b[0m\u001b[0m\n\u001b[1;32m      4\u001b[0m \u001b[0;34m\u001b[0m\u001b[0m\n\u001b[1;32m      5\u001b[0m \u001b[0;32mprint\u001b[0m \u001b[0ms\u001b[0m\u001b[0;34m.\u001b[0m\u001b[0mmetadata\u001b[0m\u001b[0;34m.\u001b[0m\u001b[0mtitle\u001b[0m\u001b[0;34m\u001b[0m\u001b[0m\n",
      "\u001b[0;32m/home/fl350/.pyenv/versions/2.7.11/envs/jupyter/lib/python2.7/site-packages/music21/stream/__init__.pyc\u001b[0m in \u001b[0;36m__getitem__\u001b[0;34m(self, k)\u001b[0m\n\u001b[1;32m    341\u001b[0m                 \u001b[0;32mexcept\u001b[0m \u001b[0mIndexError\u001b[0m\u001b[0;34m:\u001b[0m\u001b[0;34m\u001b[0m\u001b[0m\n\u001b[1;32m    342\u001b[0m                     raise StreamException('attempting to access index %s while elements is of size %s' % \n\u001b[0;32m--> 343\u001b[0;31m                                           (k, len(self.elements)))\n\u001b[0m\u001b[1;32m    344\u001b[0m             \u001b[0;31m# setting active site as cautionary measure\u001b[0m\u001b[0;34m\u001b[0m\u001b[0;34m\u001b[0m\u001b[0m\n\u001b[1;32m    345\u001b[0m             \u001b[0mmatch\u001b[0m\u001b[0;34m.\u001b[0m\u001b[0mactiveSite\u001b[0m \u001b[0;34m=\u001b[0m \u001b[0mself\u001b[0m\u001b[0;34m\u001b[0m\u001b[0m\n",
      "\u001b[0;31mStreamException\u001b[0m: attempting to access index 2 while elements is of size 2"
     ]
    }
   ],
   "source": [
    "s = catalog[2]\n",
    "s_transpose = catalog_transpose[0]\n",
    "s_transpose_quantize = catalog_transpose_quantize[0]\n",
    "\n",
    "print s.metadata.title"
   ]
  },
  {
   "cell_type": "markdown",
   "metadata": {},
   "source": [
    "Standard music score notation"
   ]
  },
  {
   "cell_type": "code",
   "execution_count": 6,
   "metadata": {
    "collapsed": false
   },
   "outputs": [
    {
     "data": {
      "image/png": "[encoded data removed]",
      "text/plain": [
       "<music21.ipython21.objects.IPythonPNGObject at 0x7f798fdcd8d0>"
      ]
     },
     "execution_count": 6,
     "metadata": {},
     "output_type": "execute_result"
    }
   ],
   "source": [
    "s_subset = s.measures(0, 3)\n",
    "#s_subset.write('lily.svg', 'bwv17-original.svg')\n",
    "s_subset.write('musicxml.png', 'bwv10-7-original-score.xml')\n",
    "s_subset.show()"
   ]
  },
  {
   "cell_type": "markdown",
   "metadata": {},
   "source": [
    "Piano roll representation"
   ]
  },
  {
   "cell_type": "code",
   "execution_count": 7,
   "metadata": {
    "collapsed": false
   },
   "outputs": [],
   "source": [
    "def plot_piano_roll(s):\n",
    "    g = graph.PlotHorizontalBarPitchSpaceOffset(s)\n",
    "    data, xTicks, _ = g._extractData()\n",
    "\n",
    "    plt.figure(figsize=(18,6))\n",
    "    #plt.subplots_adjust(left=0.15)   \n",
    "\n",
    "    yPos = 0\n",
    "    xPoints = [] # store all to find min/max\n",
    "    yTicks = [] # a list of label, value pairs\n",
    "\n",
    "    colors = sns.color_palette(\"muted\")\n",
    "\n",
    "    keys = []\n",
    "    i = 0\n",
    "    for i, (key, points) in enumerate(data):\n",
    "        keys.append(key)\n",
    "        if len(points) > 0:\n",
    "            yrange = (yPos + 1, 1)\n",
    "            plt.broken_barh(points,\n",
    "                            yrange,\n",
    "                            facecolor=colors[i%len(colors)],\n",
    "                            alpha=0.8)\n",
    "            for xStart, xLen in points:\n",
    "                xEnd = xStart + xLen\n",
    "                for x in [xStart, xEnd]:\n",
    "                    if x not in xPoints:\n",
    "                        xPoints.append(x)\n",
    "        yTicks.append([yPos + 1 * .5, key])\n",
    "        yPos += 1\n",
    "        i += 1\n",
    "\n",
    "    xMin = min(xPoints)\n",
    "    xMax = max(xPoints) \n",
    "    xRange = xMax - xMin\n",
    "\n",
    "    plt.ylim(0, len(keys) * 1)\n",
    "    plt.xlim(xMin - 4, xMax + 4)\n",
    "    plt.yticks(*zip(*yTicks))\n",
    "    plt.xticks(*zip(*xTicks))\n",
    "\n",
    "    plt.title('Piano roll of JCB Chorale BWV 1.7')\n",
    "    plt.xlabel('Measure number')\n",
    "    plt.ylabel('Pitch')"
   ]
  },
  {
   "cell_type": "code",
   "execution_count": 8,
   "metadata": {
    "collapsed": false
   },
   "outputs": [
    {
     "data": {
      "image/png": "[encoded data removed]",
      "text/plain": [
       "<matplotlib.figure.Figure at 0x7f798fd3ac10>"
      ]
     },
     "metadata": {},
     "output_type": "display_data"
    }
   ],
   "source": [
    "plot_piano_roll(s_subset)\n",
    "plt.savefig('bwv17-original-piano-roll.png')\n",
    "plt.show()"
   ]
  },
  {
   "cell_type": "code",
   "execution_count": null,
   "metadata": {
    "collapsed": false
   },
   "outputs": [],
   "source": [
    "plot_piano_roll(s_transpose_quantize)\n",
    "plt.savefig('piano-roll-transpose-quantize.png')\n",
    "plt.show()"
   ]
  },
  {
   "cell_type": "markdown",
   "metadata": {},
   "source": [
    "Meter profile of JCB: very regular at quarter or eighth positions within a measure, partially justifies quantization"
   ]
  },
  {
   "cell_type": "code",
   "execution_count": null,
   "metadata": {
    "collapsed": true
   },
   "outputs": [],
   "source": [
    "#Count usages\n",
    "allbeats = list();\n",
    "for p in catalog.flat.notes:\n",
    "    for counter in range(len(p.pitches)):\n",
    "        allbeats.append(p.beat - 1)"
   ]
  },
  {
   "cell_type": "code",
   "execution_count": null,
   "metadata": {
    "collapsed": false
   },
   "outputs": [],
   "source": [
    "plt.figure(figsize=(8,4))\n",
    "plt.hist(allbeats, bins=32, range=(0,5))\n",
    "plt.xlabel(\"Offset from start of measure (crotchets)\")\n",
    "plt.ylabel(\"Count\")\n",
    "plt.title('Note occurence positions within a measure over JCB chorales corpus')\n",
    "plt.xlim(0,4)\n",
    "plt.xticks(np.arange(0, 5, 1.0))\n",
    "plt.savefig('meter-usage.png')\n",
    "plt.show() "
   ]
  },
  {
   "cell_type": "markdown",
   "metadata": {},
   "source": [
    "Note lengths: justify quantization to 8th or 16th notes"
   ]
  },
  {
   "cell_type": "code",
   "execution_count": null,
   "metadata": {
    "collapsed": false
   },
   "outputs": [],
   "source": [
    "plt.figure(figsize=(8,4))\n",
    "\n",
    "data, xTicks, _ = graph.PlotHistogramQuarterLength(catalog)._extractData()\n",
    "plt.bar(*zip(*data), width=0.2, align='center')\n",
    "plt.xlabel('Note length (crotchets)')\n",
    "plt.xlim(0,4)\n",
    "plt.ylabel('Count')\n",
    "plt.title('Note lengths over JCB chorales corpus')\n",
    "\n",
    "plt.savefig('note-lengths.png')\n",
    "plt.show()"
   ]
  },
  {
   "cell_type": "markdown",
   "metadata": {},
   "source": [
    "Pitch usage profile"
   ]
  },
  {
   "cell_type": "code",
   "execution_count": null,
   "metadata": {
    "collapsed": false
   },
   "outputs": [],
   "source": [
    "plt.figure(figsize=(18,5))\n",
    "\n",
    "data, xTicks, _ = graph.PlotHistogramPitchSpace(catalog)._extractData()\n",
    "plt.bar(*zip(*data))\n",
    "plt.xticks(*zip(*xTicks))\n",
    "plt.xlabel('Pitch')\n",
    "plt.ylabel('Count')\n",
    "plt.suptitle('Pitch usage over JCB chorales (original)')\n",
    "\n",
    "plt.savefig('pitch-usage.png')\n",
    "plt.show()"
   ]
  },
  {
   "cell_type": "code",
   "execution_count": null,
   "metadata": {
    "collapsed": false
   },
   "outputs": [],
   "source": [
    "plt.figure(figsize=(8,5))\n",
    "\n",
    "data, xTicks, _ = graph.PlotHistogramPitchClass(catalog)._extractData()\n",
    "plt.bar(*zip(*data))\n",
    "plt.xticks(*zip(*xTicks))\n",
    "plt.xlabel('Pitch Class')\n",
    "plt.ylabel('Count')\n",
    "title('Pitch class usage over JCB chorales (original)')\n",
    "\n",
    "plt.savefig('pitch-class-usage.png')\n",
    "plt.show()"
   ]
  },
  {
   "cell_type": "code",
   "execution_count": null,
   "metadata": {
    "collapsed": false
   },
   "outputs": [],
   "source": [
    "plt.figure(figsize=(18,4))\n",
    "gs = gridspec.GridSpec(1, 2, width_ratios=[2, 1]) \n",
    "\n",
    "plt.subplot(gs[0])\n",
    "data, xTicks, _ = graph.PlotHistogramPitchSpace(catalog)._extractData()\n",
    "plt.bar(*zip(*data))\n",
    "plt.xticks(*zip(*xTicks))\n",
    "plt.xlabel('Pitch')\n",
    "plt.ylabel('Count')\n",
    "\n",
    "plt.subplot(gs[1])\n",
    "data, xTicks, _ = graph.PlotHistogramPitchClass(catalog)._extractData()\n",
    "plt.bar(*zip(*data))\n",
    "plt.xticks(*zip(*xTicks))\n",
    "plt.xlabel('Pitch Class')\n",
    "plt.ylabel('Count')\n",
    "\n",
    "plt.show()"
   ]
  },
  {
   "cell_type": "markdown",
   "metadata": {},
   "source": [
    "Joint pitch/note length usages"
   ]
  },
  {
   "cell_type": "code",
   "execution_count": null,
   "metadata": {
    "collapsed": false
   },
   "outputs": [],
   "source": [
    "data, xTicks, yTicks = graph.PlotScatterWeightedPitchClassQuarterLength(s)._extractData()"
   ]
  },
  {
   "cell_type": "code",
   "execution_count": null,
   "metadata": {
    "collapsed": false
   },
   "outputs": [],
   "source": [
    "x, y, sz = zip(*data)\n",
    "plt.scatter(x,y,s=10*sz)\n",
    "plt.xlabel(*zip(*xTicks))\n",
    "plt.ylabel(*zip(*yTicks))\n",
    "plt.title('')\n",
    "\n",
    "plt.savefig('pitch-duration-scatterplot.png')\n",
    "plt.show()"
   ]
  },
  {
   "cell_type": "code",
   "execution_count": null,
   "metadata": {
    "collapsed": false
   },
   "outputs": [],
   "source": [
    "graph.PlotScatterWeightedPitchClassQuarterLength(s).process()"
   ]
  },
  {
   "cell_type": "code",
   "execution_count": null,
   "metadata": {
    "collapsed": true
   },
   "outputs": [],
   "source": []
  }
 ],
 "metadata": {
  "kernelspec": {
   "display_name": "Python 2",
   "language": "python",
   "name": "python2"
  },
  "language_info": {
   "codemirror_mode": {
    "name": "ipython",
    "version": 2
   },
   "file_extension": ".py",
   "mimetype": "text/x-python",
   "name": "python",
   "nbconvert_exporter": "python",
   "pygments_lexer": "ipython2",
   "version": "2.7.11"
  }
 },
 "nbformat": 4,
 "nbformat_minor": 0
}
