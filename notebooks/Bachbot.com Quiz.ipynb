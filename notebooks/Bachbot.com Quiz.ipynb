{
 "cells": [
  {
   "cell_type": "code",
   "execution_count": 1,
   "metadata": {
    "collapsed": false
   },
   "outputs": [
    {
     "name": "stdout",
     "output_type": "stream",
     "text": [
      "Populating the interactive namespace from numpy and matplotlib\n"
     ]
    }
   ],
   "source": [
    "%pylab inline"
   ]
  },
  {
   "cell_type": "code",
   "execution_count": 366,
   "metadata": {
    "collapsed": false
   },
   "outputs": [],
   "source": [
    "from music21 import *\n",
    "import os.path\n",
    "import glob\n",
    "import subprocess\n",
    "import json\n",
    "import copy\n",
    "\n",
    "import sys\n",
    "sys.path.append('/home/fl350/bachbot/scripts')\n",
    "import quiz"
   ]
  },
  {
   "cell_type": "markdown",
   "metadata": {},
   "source": [
    "Harmonizations have obvious repeating 16th notes: this fixes them"
   ]
  },
  {
   "cell_type": "code",
   "execution_count": 360,
   "metadata": {
    "collapsed": true
   },
   "outputs": [],
   "source": [
    "def fix_repeating_semiquavers(s):\n",
    "    new_score = copy.deepcopy(s)\n",
    "    for m in new_score.parts[0].getElementsByClass('Measure'):\n",
    "        for start in np.arange(0.0, 4.0, 0.5):\n",
    "            chords = m.notesAndRests.getElementsByOffset(start, start+0.5, includeEndBoundary=False)\n",
    "            if len(chords) > 1:\n",
    "                prev_el = chords[0]\n",
    "                el = chords[1]\n",
    "                prev_el.removeRedundantPitches(inPlace=True)\n",
    "                el.removeRedundantPitches(inPlace=True)\n",
    "\n",
    "                for prev_n, n in zip(sorted(prev_el._notes), sorted(el._notes)):\n",
    "                    if prev_n.pitch == n.pitch:\n",
    "                        if not prev_n.tie or prev_n.tie.type == 'stop':\n",
    "                            prev_n.tie = tie.Tie('start')\n",
    "                            n.tie = tie.Tie('stop')\n",
    "    return new_score"
   ]
  },
  {
   "cell_type": "code",
   "execution_count": 364,
   "metadata": {
    "collapsed": true
   },
   "outputs": [],
   "source": [
    "EXPERIMENT_DIR = '/home/fl350/8-1-bachbot-questions'"
   ]
  },
  {
   "cell_type": "code",
   "execution_count": null,
   "metadata": {
    "collapsed": false
   },
   "outputs": [
    {
     "name": "stdout",
     "output_type": "stream",
     "text": [
      "Processed: BWV-268-mask-Alto-fermatas.xml\n",
      "Processed: BWV-438-mask-Alto-fermatas.xml\n",
      "Processed: BWV-27.6-mask-Bass-fermatas.xml\n",
      "Processed: BWV-293-mask-Bass-fermatas.xml\n",
      "Processed: BWV-168.6-mask-Alto-Tenor-Bass-fermatas.xml\n",
      "Processed: BWV-270-mask-Alto-Tenor-Bass-fermatas.xml\n",
      "Processed: BWV-248.5-mask-Alto-Tenor-Bass-fermatas.xml\n"
     ]
    }
   ],
   "source": [
    "xml_files = [q['generated'][:-3]+'xml'\n",
    "     for qg in json.load(open(EXPERIMENT_DIR + '/questions.json', 'r')).values()\n",
    "     for q in qg\n",
    "     if q['generated'][:3] == 'BWV']\n",
    "for xml_file in xml_files:\n",
    "    fp = '/home/fl350/bachbot/scratch/harm_out/{}'.format(xml_file)\n",
    "    s = converter.parseFile(fp)\n",
    "    fix_repeating_semiquavers(s).write('xml', EXPERIMENT_DIR + '/{}'.format(xml_file))\n",
    "    quiz.xml_to_mp3(\n",
    "        EXPERIMENT_DIR + '/{}'.format(xml_file),\n",
    "        EXPERIMENT_DIR\n",
    "    )\n",
    "    print 'Processed: ' + xml_file"
   ]
  },
  {
   "cell_type": "code",
   "execution_count": null,
   "metadata": {
    "collapsed": true
   },
   "outputs": [],
   "source": []
  }
 ],
 "metadata": {
  "kernelspec": {
   "display_name": "Python 2",
   "language": "python",
   "name": "python2"
  },
  "language_info": {
   "codemirror_mode": {
    "name": "ipython",
    "version": 2
   },
   "file_extension": ".py",
   "mimetype": "text/x-python",
   "name": "python",
   "nbconvert_exporter": "python",
   "pygments_lexer": "ipython2",
   "version": "2.7.11"
  }
 },
 "nbformat": 4,
 "nbformat_minor": 0
}
