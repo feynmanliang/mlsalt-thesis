{
 "cells": [
  {
   "cell_type": "code",
   "execution_count": 1,
   "metadata": {
    "collapsed": false
   },
   "outputs": [
    {
     "name": "stdout",
     "output_type": "stream",
     "text": [
      "Populating the interactive namespace from numpy and matplotlib\n"
     ]
    }
   ],
   "source": [
    "%pylab inline"
   ]
  },
  {
   "cell_type": "code",
   "execution_count": 35,
   "metadata": {
    "collapsed": false
   },
   "outputs": [],
   "source": [
    "import pandas as pd\n",
    "import seaborn as sns"
   ]
  },
  {
   "cell_type": "code",
   "execution_count": 9,
   "metadata": {
    "collapsed": false
   },
   "outputs": [
    {
     "data": {
      "text/html": [
       "<div>\n",
       "<table border=\"1\" class=\"dataframe\">\n",
       "  <thead>\n",
       "    <tr style=\"text-align: right;\">\n",
       "      <th></th>\n",
       "      <th>Error Type</th>\n",
       "      <th>Predicted Parts</th>\n",
       "      <th>Error Rate</th>\n",
       "    </tr>\n",
       "  </thead>\n",
       "  <tbody>\n",
       "    <tr>\n",
       "      <th>0</th>\n",
       "      <td>TER</td>\n",
       "      <td>A</td>\n",
       "      <td>0.558236</td>\n",
       "    </tr>\n",
       "    <tr>\n",
       "      <th>1</th>\n",
       "      <td>TER</td>\n",
       "      <td>B</td>\n",
       "      <td>0.758904</td>\n",
       "    </tr>\n",
       "    <tr>\n",
       "      <th>2</th>\n",
       "      <td>TER</td>\n",
       "      <td>ATB</td>\n",
       "      <td>0.281959</td>\n",
       "    </tr>\n",
       "    <tr>\n",
       "      <th>3</th>\n",
       "      <td>TER</td>\n",
       "      <td>S</td>\n",
       "      <td>0.468421</td>\n",
       "    </tr>\n",
       "    <tr>\n",
       "      <th>4</th>\n",
       "      <td>TER</td>\n",
       "      <td>AT</td>\n",
       "      <td>0.313627</td>\n",
       "    </tr>\n",
       "    <tr>\n",
       "      <th>5</th>\n",
       "      <td>TER</td>\n",
       "      <td>T</td>\n",
       "      <td>0.764706</td>\n",
       "    </tr>\n",
       "    <tr>\n",
       "      <th>6</th>\n",
       "      <td>FER</td>\n",
       "      <td>A</td>\n",
       "      <td>0.558236</td>\n",
       "    </tr>\n",
       "    <tr>\n",
       "      <th>7</th>\n",
       "      <td>FER</td>\n",
       "      <td>B</td>\n",
       "      <td>0.758904</td>\n",
       "    </tr>\n",
       "    <tr>\n",
       "      <th>8</th>\n",
       "      <td>FER</td>\n",
       "      <td>ATB</td>\n",
       "      <td>0.121774</td>\n",
       "    </tr>\n",
       "    <tr>\n",
       "      <th>9</th>\n",
       "      <td>FER</td>\n",
       "      <td>S</td>\n",
       "      <td>0.468421</td>\n",
       "    </tr>\n",
       "    <tr>\n",
       "      <th>10</th>\n",
       "      <td>FER</td>\n",
       "      <td>AT</td>\n",
       "      <td>0.212516</td>\n",
       "    </tr>\n",
       "    <tr>\n",
       "      <th>11</th>\n",
       "      <td>FER</td>\n",
       "      <td>T</td>\n",
       "      <td>0.764706</td>\n",
       "    </tr>\n",
       "  </tbody>\n",
       "</table>\n",
       "</div>"
      ],
      "text/plain": [
       "   Error Type Predicted Parts  Error Rate\n",
       "0         TER               A    0.558236\n",
       "1         TER               B    0.758904\n",
       "2         TER             ATB    0.281959\n",
       "3         TER               S    0.468421\n",
       "4         TER              AT    0.313627\n",
       "5         TER               T    0.764706\n",
       "6         FER               A    0.558236\n",
       "7         FER               B    0.758904\n",
       "8         FER             ATB    0.121774\n",
       "9         FER               S    0.468421\n",
       "10        FER              AT    0.212516\n",
       "11        FER               T    0.764706"
      ]
     },
     "execution_count": 9,
     "metadata": {},
     "output_type": "execute_result"
    }
   ],
   "source": [
    "data = pd.read_csv('/home/fl350/bachbot/scratch/harm_results.csv', names=['Error Type', 'Predicted Parts', 'Error Rate'])\n",
    "data"
   ]
  },
  {
   "cell_type": "code",
   "execution_count": 54,
   "metadata": {
    "collapsed": false
   },
   "outputs": [
    {
     "data": {
      "image/png": "[encoded data removed]",
      "text/plain": [
       "<matplotlib.figure.Figure at 0x7fcb06093710>"
      ]
     },
     "metadata": {},
     "output_type": "display_data"
    }
   ],
   "source": [
    "fig, ax = plt.subplots(1, 1)\n",
    "fig.set_size_inches(10,4)\n",
    "ax.get_xaxis().set_visible(False)   # Hide Ticks\n",
    "\n",
    "pd.pivot_table(data, values='Error Rate', index=['Predicted Parts'], columns=['Error Type'])\\\n",
    ".round(3)\\\n",
    "[['TER', 'FER']]\\\n",
    ".loc[['S', 'A', 'T', 'B', 'AT', 'ATB']]\\\n",
    ".plot.bar(ax=ax, table=True)\n",
    "\n",
    "ax.set_title('Harmonization model token and frame error rates')\n",
    "ax.set_ylabel('Error Rate')\n",
    "ax.legend(loc='best')\n",
    "fig.show()\n",
    "fig.savefig('harmonization-results.png')"
   ]
  },
  {
   "cell_type": "code",
   "execution_count": null,
   "metadata": {
    "collapsed": true
   },
   "outputs": [],
   "source": []
  }
 ],
 "metadata": {
  "kernelspec": {
   "display_name": "Python 2",
   "language": "python",
   "name": "python2"
  },
  "language_info": {
   "codemirror_mode": {
    "name": "ipython",
    "version": 2
   },
   "file_extension": ".py",
   "mimetype": "text/x-python",
   "name": "python",
   "nbconvert_exporter": "python",
   "pygments_lexer": "ipython2",
   "version": "2.7.11"
  }
 },
 "nbformat": 4,
 "nbformat_minor": 0
}
